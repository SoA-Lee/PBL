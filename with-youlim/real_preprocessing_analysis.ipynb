{
 "cells": [
  {
   "cell_type": "markdown",
   "id": "d02bec14",
   "metadata": {},
   "source": [
    "# 1. 데이터 전처리"
   ]
  },
  {
   "cell_type": "code",
   "execution_count": 1,
   "id": "55d63082",
   "metadata": {},
   "outputs": [],
   "source": [
    "import warnings\n",
    "warnings.filterwarnings(action='ignore')\n",
    "import pandas as pd\n",
    "import os\n",
    "import numpy as np\n",
    "import matplotlib.pyplot as plt\n",
    "import seaborn as sns\n",
    "from pathlib import Path\n",
    "\n",
    "import re\n",
    "from konlpy.tag import Okt\n",
    "\n",
    "%matplotlib inline"
   ]
  },
  {
   "cell_type": "code",
   "execution_count": 2,
   "id": "dbc989ef",
   "metadata": {},
   "outputs": [
    {
     "name": "stdout",
     "output_type": "stream",
     "text": [
      "파일 크기 : \n",
      "clean_dataset.csv             1.52MB\n",
      "real_refined_data.csv         1.12MB\n",
      "real_test_data.csv            0.55MB\n",
      "real_train_data.csv           0.57MB\n",
      "testdata.csv                  0.8MB\n",
      "traindata.csv                 0.73MB\n"
     ]
    }
   ],
   "source": [
    "DATA_IN_PATH = './data_in/'\n",
    "print(\"파일 크기 : \")\n",
    "for file in os.listdir(DATA_IN_PATH):\n",
    "    if 'csv' in file :\n",
    "        print(file.ljust(30) + str(round(os.path.getsize(DATA_IN_PATH + file) / 1000000, 2)) + 'MB')"
   ]
  },
  {
   "cell_type": "code",
   "execution_count": 3,
   "id": "37a395c2",
   "metadata": {},
   "outputs": [
    {
     "data": {
      "text/html": [
       "<div>\n",
       "<style scoped>\n",
       "    .dataframe tbody tr th:only-of-type {\n",
       "        vertical-align: middle;\n",
       "    }\n",
       "\n",
       "    .dataframe tbody tr th {\n",
       "        vertical-align: top;\n",
       "    }\n",
       "\n",
       "    .dataframe thead th {\n",
       "        text-align: right;\n",
       "    }\n",
       "</style>\n",
       "<table border=\"1\" class=\"dataframe\">\n",
       "  <thead>\n",
       "    <tr style=\"text-align: right;\">\n",
       "      <th></th>\n",
       "      <th>sentence</th>\n",
       "      <th>label</th>\n",
       "    </tr>\n",
       "  </thead>\n",
       "  <tbody>\n",
       "    <tr>\n",
       "      <th>0</th>\n",
       "      <td>개같은 소리 하지마</td>\n",
       "      <td>1</td>\n",
       "    </tr>\n",
       "    <tr>\n",
       "      <th>1</th>\n",
       "      <td>좌배 까는건 ㅇㅂ</td>\n",
       "      <td>1</td>\n",
       "    </tr>\n",
       "    <tr>\n",
       "      <th>2</th>\n",
       "      <td>개소리야 니가 빨갱이를 옹호하고 드루킹을 ㅇㅇ짓이라고 말못해서 삐진거야 빨갱아</td>\n",
       "      <td>1</td>\n",
       "    </tr>\n",
       "    <tr>\n",
       "      <th>3</th>\n",
       "      <td>애새끼가 초딩도 아니고 ㅋㅋㅋㅋ</td>\n",
       "      <td>1</td>\n",
       "    </tr>\n",
       "    <tr>\n",
       "      <th>4</th>\n",
       "      <td>731부대의 후예라 그런지 가학적인 아이디어는 세계최고임 이래서 애교만 떨어도 돈 ...</td>\n",
       "      <td>1</td>\n",
       "    </tr>\n",
       "  </tbody>\n",
       "</table>\n",
       "</div>"
      ],
      "text/plain": [
       "                                            sentence label\n",
       "0                                         개같은 소리 하지마     1\n",
       "1                                          좌배 까는건 ㅇㅂ     1\n",
       "2        개소리야 니가 빨갱이를 옹호하고 드루킹을 ㅇㅇ짓이라고 말못해서 삐진거야 빨갱아     1\n",
       "3                                  애새끼가 초딩도 아니고 ㅋㅋㅋㅋ     1\n",
       "4  731부대의 후예라 그런지 가학적인 아이디어는 세계최고임 이래서 애교만 떨어도 돈 ...     1"
      ]
     },
     "execution_count": 3,
     "metadata": {},
     "output_type": "execute_result"
    }
   ],
   "source": [
    "train_data = pd.read_csv(DATA_IN_PATH+'clean_dataset.csv',sep = ',',\n",
    "                 names=['sentence', 'label'], header=None, quoting=3)\n",
    "train_data.head()"
   ]
  },
  {
   "cell_type": "code",
   "execution_count": 4,
   "id": "dc71c37f",
   "metadata": {},
   "outputs": [],
   "source": [
    "def preprocessing(sentence, okt, remove_stopwords = False, stop_words = []):\n",
    "    # 함수의 인자는 다음과 같다.\n",
    "    # sentence : 전처리할 텍스트\n",
    "    # okt : okt 객체를 반복적으로 생성하지 않고 미리 생성후 인자로 받는다.\n",
    "    # remove_stopword : 불용어를 제거할지 선택 기본값은 False\n",
    "    # stop_word : 불용어 사전은 사용자가 직접 입력해야함 기본값은 비어있는 리스트\n",
    "    \n",
    "    # 1. 한글 및 공백을 제외한 문자 모두 제거.\n",
    "    sentence_text = re.sub(\"[ㄱ-ㅎㅏ-ㅣ\\\\s]+\", \"\", sentence) \n",
    "    \n",
    "    \n",
    "    # 2. okt 객체를 활용해서 형태소 단위로 나눈다.\n",
    "    wd_sentence = okt.morphs(sentence_text, stem=True)\n",
    "    \n",
    "    if remove_stopwords:\n",
    "        \n",
    "        # 불용어 제거(선택적)\n",
    "        wd_sentence = [token for token in wd_sentence if not token in stop_words]\n",
    "        \n",
    "   \n",
    "    return wd_sentence"
   ]
  },
  {
   "cell_type": "code",
   "execution_count": 5,
   "id": "d8f6b0c1",
   "metadata": {},
   "outputs": [
    {
     "name": "stdout",
     "output_type": "stream",
     "text": [
      "                                                sentence\n",
      "0                                             개같은 소리 하지마\n",
      "1                                              좌배 까는건 ㅇㅂ\n",
      "2            개소리야 니가 빨갱이를 옹호하고 드루킹을 ㅇㅇ짓이라고 말못해서 삐진거야 빨갱아\n",
      "3                                      애새끼가 초딩도 아니고 ㅋㅋㅋㅋ\n",
      "4      731부대의 후예라 그런지 가학적인 아이디어는 세계최고임 이래서 애교만 떨어도 돈 ...\n",
      "...                                                  ...\n",
      "16483                                둘이 친구인 데는 이유가 있었네요.\n",
      "16484                              톰과 잭이 둘이 친구군요? 이럴 수가.\n",
      "16485                           내일 드디어 개강이네. 개강 준비는 잘했어?\n",
      "16486            그럭저럭한 것 같아. 종강한 지 별로 안된 것 같은데 벌써 개강이라니.\n",
      "16487                                            좋은 소식이야\n",
      "\n",
      "[16488 rows x 1 columns]\n"
     ]
    },
    {
     "data": {
      "text/html": [
       "<div>\n",
       "<style scoped>\n",
       "    .dataframe tbody tr th:only-of-type {\n",
       "        vertical-align: middle;\n",
       "    }\n",
       "\n",
       "    .dataframe tbody tr th {\n",
       "        vertical-align: top;\n",
       "    }\n",
       "\n",
       "    .dataframe thead th {\n",
       "        text-align: right;\n",
       "    }\n",
       "</style>\n",
       "<table border=\"1\" class=\"dataframe\">\n",
       "  <thead>\n",
       "    <tr style=\"text-align: right;\">\n",
       "      <th></th>\n",
       "      <th>sentence</th>\n",
       "      <th>label</th>\n",
       "    </tr>\n",
       "  </thead>\n",
       "  <tbody>\n",
       "    <tr>\n",
       "      <th>0</th>\n",
       "      <td>개같은 소리 하지마</td>\n",
       "      <td>1</td>\n",
       "    </tr>\n",
       "    <tr>\n",
       "      <th>1</th>\n",
       "      <td>좌배 까는건</td>\n",
       "      <td>1</td>\n",
       "    </tr>\n",
       "    <tr>\n",
       "      <th>2</th>\n",
       "      <td>개소리야 니가 빨갱이를 옹호하고 드루킹을 짓이라고 말못해서 삐진거야 빨갱아</td>\n",
       "      <td>1</td>\n",
       "    </tr>\n",
       "    <tr>\n",
       "      <th>3</th>\n",
       "      <td>애새끼가 초딩도 아니고</td>\n",
       "      <td>1</td>\n",
       "    </tr>\n",
       "    <tr>\n",
       "      <th>4</th>\n",
       "      <td>부대의 후예라 그런지 가학적인 아이디어는 세계최고임 이래서 애교만 떨어도 돈 벌리는...</td>\n",
       "      <td>1</td>\n",
       "    </tr>\n",
       "    <tr>\n",
       "      <th>...</th>\n",
       "      <td>...</td>\n",
       "      <td>...</td>\n",
       "    </tr>\n",
       "    <tr>\n",
       "      <th>16483</th>\n",
       "      <td>둘이 친구인 데는 이유가 있었네요</td>\n",
       "      <td>0</td>\n",
       "    </tr>\n",
       "    <tr>\n",
       "      <th>16484</th>\n",
       "      <td>톰과 잭이 둘이 친구군요 이럴 수가</td>\n",
       "      <td>0</td>\n",
       "    </tr>\n",
       "    <tr>\n",
       "      <th>16485</th>\n",
       "      <td>내일 드디어 개강이네 개강 준비는 잘했어</td>\n",
       "      <td>0</td>\n",
       "    </tr>\n",
       "    <tr>\n",
       "      <th>16486</th>\n",
       "      <td>그럭저럭한 것 같아 종강한 지 별로 안된 것 같은데 벌써 개강이라니</td>\n",
       "      <td>0</td>\n",
       "    </tr>\n",
       "    <tr>\n",
       "      <th>16487</th>\n",
       "      <td>좋은 소식이야</td>\n",
       "      <td>0</td>\n",
       "    </tr>\n",
       "  </tbody>\n",
       "</table>\n",
       "<p>16488 rows × 2 columns</p>\n",
       "</div>"
      ],
      "text/plain": [
       "                                                sentence label\n",
       "0                                             개같은 소리 하지마     1\n",
       "1                                                좌배 까는건      1\n",
       "2              개소리야 니가 빨갱이를 옹호하고 드루킹을 짓이라고 말못해서 삐진거야 빨갱아     1\n",
       "3                                          애새끼가 초딩도 아니고      1\n",
       "4      부대의 후예라 그런지 가학적인 아이디어는 세계최고임 이래서 애교만 떨어도 돈 벌리는...     1\n",
       "...                                                  ...   ...\n",
       "16483                                 둘이 친구인 데는 이유가 있었네요     0\n",
       "16484                                톰과 잭이 둘이 친구군요 이럴 수가     0\n",
       "16485                             내일 드디어 개강이네 개강 준비는 잘했어     0\n",
       "16486              그럭저럭한 것 같아 종강한 지 별로 안된 것 같은데 벌써 개강이라니     0\n",
       "16487                                            좋은 소식이야     0\n",
       "\n",
       "[16488 rows x 2 columns]"
      ]
     },
     "execution_count": 5,
     "metadata": {},
     "output_type": "execute_result"
    }
   ],
   "source": [
    "#특수문자 제거\n",
    "import re\n",
    "\n",
    "only_sentences = train_data.iloc[:,[0]]\n",
    "print(only_sentences)\n",
    "sentence_without_Special_Characters  = []\n",
    "for sentence in train_data['sentence'][:]:\n",
    "    tmp = re.sub(\"[^가-힣 ㄱ-ㅎ ㅏ-ㅣ \\\\s]\", \"\", sentence) #특수문자 제거\n",
    "    tmp = re.sub(\"([ㄱ-ㅎㅏ-ㅣ]+)\", \"\", tmp) #자음, 모음 제거\n",
    "    tmp = re.sub(\"<[^>]*>\", \"\", tmp)  #html 제거\n",
    "    tmp = re.sub(\"[\\r|\\n]\", \"\", tmp) #\\r, \\n 제거 \n",
    "    tmp = re.sub(\"(http|https|ftp)://(?:[-\\w.]|(?::\\da-fA-F]{2}))+\", \"\", tmp) #url 제거\n",
    "#     comment_without_Special_Characters.append(re.sub(r'\\s+' , \"\", tmp)) #이중 space 제거  --> 단어 몇갠지 봐야되서 아직 하면 안됨\n",
    "    sentence_without_Special_Characters.append(tmp) #이중 space 제거\n",
    "\n",
    "index = 0\n",
    "for sentence in sentence_without_Special_Characters:\n",
    "    train_data['sentence'][index] = sentence\n",
    "    index += 1\n",
    "\n",
    "train_data"
   ]
  },
  {
   "cell_type": "markdown",
   "id": "86e28932",
   "metadata": {},
   "source": [
    "# 2. 데이터 분석"
   ]
  },
  {
   "cell_type": "code",
   "execution_count": 6,
   "id": "98609780",
   "metadata": {},
   "outputs": [
    {
     "name": "stdout",
     "output_type": "stream",
     "text": [
      "파일 크기 : \n",
      "clean_dataset.csv             1.52MB\n",
      "real_refined_data.csv         1.12MB\n",
      "real_test_data.csv            0.55MB\n",
      "real_train_data.csv           0.57MB\n",
      "testdata.csv                  0.8MB\n",
      "traindata.csv                 0.73MB\n"
     ]
    }
   ],
   "source": [
    "print(\"파일 크기 : \")\n",
    "for file in os.listdir(DATA_IN_PATH):\n",
    "    if 'csv' in file :\n",
    "        print(file.ljust(30) + str(round(os.path.getsize(DATA_IN_PATH + file) / 1000000, 2)) + 'MB')"
   ]
  },
  {
   "cell_type": "code",
   "execution_count": 7,
   "id": "cb5d5fee",
   "metadata": {},
   "outputs": [
    {
     "name": "stdout",
     "output_type": "stream",
     "text": [
      "전체 학습데이터의 개수: 16488\n"
     ]
    }
   ],
   "source": [
    "print('전체 학습데이터의 개수: {}'.format(len(train_data)))"
   ]
  },
  {
   "cell_type": "code",
   "execution_count": 8,
   "id": "5f7458de",
   "metadata": {},
   "outputs": [
    {
     "data": {
      "text/plain": [
       "0     10\n",
       "1      7\n",
       "2     41\n",
       "3     13\n",
       "4    103\n",
       "Name: sentence, dtype: int64"
      ]
     },
     "execution_count": 8,
     "metadata": {},
     "output_type": "execute_result"
    }
   ],
   "source": [
    "train_length = train_data['sentence'].astype(str).apply(len)\n",
    "train_length.head()"
   ]
  },
  {
   "cell_type": "code",
   "execution_count": 9,
   "id": "c29aba91",
   "metadata": {},
   "outputs": [
    {
     "data": {
      "text/plain": [
       "Text(0, 0.5, 'Number of Sentence')"
      ]
     },
     "execution_count": 9,
     "metadata": {},
     "output_type": "execute_result"
    },
    {
     "data": {
      "image/png": "[encoded data removed]",
      "text/plain": [
       "<Figure size 864x360 with 1 Axes>"
      ]
     },
     "metadata": {
      "needs_background": "light"
     },
     "output_type": "display_data"
    }
   ],
   "source": [
    "# 그래프에 대한 이미지 사이즈 선언\n",
    "# figsize: (가로, 세로) 형태의 튜플로 입력\n",
    "plt.figure(figsize=(12, 5))\n",
    "# 히스토그램 선언\n",
    "# bins: 히스토그램 값들에 대한 버켓 범위\n",
    "# range: x축 값의 범위\n",
    "# alpha: 그래프 색상 투명도\n",
    "# color: 그래프 색상\n",
    "# label: 그래프에 대한 라벨\n",
    "plt.hist(train_length, bins=200, alpha=0.5, color= 'r', label='word')\n",
    "plt.yscale('log', nonposy='clip')\n",
    "# 그래프 제목\n",
    "plt.title('Log-Histogram of length of Sentence')\n",
    "# 그래프 x 축 라벨\n",
    "plt.xlabel('Length of Sentence')\n",
    "# 그래프 y 축 라벨\n",
    "plt.ylabel('Number of Sentence')"
   ]
  },
  {
   "cell_type": "code",
   "execution_count": 10,
   "id": "516fe893",
   "metadata": {},
   "outputs": [
    {
     "name": "stdout",
     "output_type": "stream",
     "text": [
      "문장 길이 최대 값: 816\n",
      "문장 길이 최소 값: 0\n",
      "문장 길이 평균 값: 30.19\n",
      "문장 길이 표준편차: 31.47\n",
      "문장 길이 중간 값: 25.0\n",
      "문장 길이 제 1 사분위: 15.0\n",
      "문장 길이 제 3 사분위: 34.0\n"
     ]
    }
   ],
   "source": [
    "print('문장 길이 최대 값: {}'.format(np.max(train_length)))\n",
    "print('문장 길이 최소 값: {}'.format(np.min(train_length)))\n",
    "print('문장 길이 평균 값: {:.2f}'.format(np.mean(train_length)))\n",
    "print('문장 길이 표준편차: {:.2f}'.format(np.std(train_length)))\n",
    "print('문장 길이 중간 값: {}'.format(np.median(train_length)))\n",
    "# 사분위의 대한 경우는 0~100 스케일로 되어있음\n",
    "print('문장 길이 제 1 사분위: {}'.format(np.percentile(train_length, 25)))\n",
    "print('문장 길이 제 3 사분위: {}'.format(np.percentile(train_length, 75)))"
   ]
  },
  {
   "cell_type": "code",
   "execution_count": 11,
   "id": "90e04f84",
   "metadata": {},
   "outputs": [
    {
     "data": {
      "text/plain": [
       "{'whiskers': [<matplotlib.lines.Line2D at 0x263edf260d0>,\n",
       "  <matplotlib.lines.Line2D at 0x263edf26430>],\n",
       " 'caps': [<matplotlib.lines.Line2D at 0x263edf26790>,\n",
       "  <matplotlib.lines.Line2D at 0x263edf26af0>],\n",
       " 'boxes': [<matplotlib.lines.Line2D at 0x263edf1bd30>],\n",
       " 'medians': [<matplotlib.lines.Line2D at 0x263edf26e50>],\n",
       " 'fliers': [<matplotlib.lines.Line2D at 0x263edf4a4f0>],\n",
       " 'means': [<matplotlib.lines.Line2D at 0x263edf4a190>]}"
      ]
     },
     "execution_count": 11,
     "metadata": {},
     "output_type": "execute_result"
    },
    {
     "data": {
      "image/png": "[encoded data removed]",
      "text/plain": [
       "<Figure size 864x360 with 1 Axes>"
      ]
     },
     "metadata": {
      "needs_background": "light"
     },
     "output_type": "display_data"
    }
   ],
   "source": [
    "plt.figure(figsize=(12, 5))\n",
    "# 박스플롯 생성\n",
    "# 첫번째 파라메터: 여러 분포에 대한 데이터 리스트를 입력\n",
    "# labels: 입력한 데이터에 대한 라벨\n",
    "# showmeans: 평균값을 마크함\n",
    "\n",
    "plt.boxplot(train_length,\n",
    "             labels=['counts'],\n",
    "             showmeans=True)"
   ]
  },
  {
   "cell_type": "code",
   "execution_count": 12,
   "id": "08f6d943",
   "metadata": {},
   "outputs": [
    {
     "name": "stdout",
     "output_type": "stream",
     "text": [
      "긍정 리뷰 개수: 8127\n",
      "부정 리뷰 개수: 6505\n"
     ]
    }
   ],
   "source": [
    "label_zero = train_data.loc[train_data['label']== '0'] #욕X\n",
    "label_one = train_data.loc[train_data['label']== '1'] #욕O\n",
    "print(\"긍정 리뷰 개수: {}\".format(train_data['label'].value_counts()[0]))\n",
    "print(\"부정 리뷰 개수: {}\".format(train_data['label'].value_counts()[1]))"
   ]
  },
  {
   "cell_type": "code",
   "execution_count": 13,
   "id": "9f18fe13",
   "metadata": {},
   "outputs": [
    {
     "name": "stdout",
     "output_type": "stream",
     "text": [
      "0.8004183585578935\n",
      "라벨이 0인 data 개수 : 6505\n",
      "라벨이 1인 data 개수 : 6505\n"
     ]
    }
   ],
   "source": [
    "# 라벨 비율 맞추기\n",
    "class_difference = len(label_one) - len(label_zero)\n",
    "sample_frac = 1 - (class_difference / len(label_one))\n",
    "print(sample_frac)\n",
    "label_one = label_one.sample(frac = sample_frac)\n",
    "print(\"라벨이 0인 data 개수 : {}\".format(len(label_zero)))\n",
    "print(\"라벨이 1인 data 개수 : {}\".format(len(label_one)))"
   ]
  },
  {
   "cell_type": "code",
   "execution_count": 14,
   "id": "f428d4ad",
   "metadata": {},
   "outputs": [],
   "source": [
    "total_clean_dataset = pd.concat([label_one, label_zero])\n",
    "#정제된 데이터 csv로 추출\n",
    "total_clean_dataset.to_csv(DATA_IN_PATH + \"real_refined_data.csv\", index = False ) "
   ]
  },
  {
   "cell_type": "markdown",
   "id": "040d9f41",
   "metadata": {},
   "source": [
    "# test/train  data  나누기 "
   ]
  },
  {
   "cell_type": "code",
   "execution_count": 15,
   "id": "7f6ac046",
   "metadata": {},
   "outputs": [],
   "source": [
    "label_zero1 = label_zero[:3252] #train\n",
    "label_zero2 = label_zero[3252:] #test\n",
    "label_one1 = label_one[:3252] #train\n",
    "label_one2 = label_one[3252:] #test\n",
    "\n",
    "train_data = pd.concat([label_zero1, label_one1])\n",
    "test_data = pd.concat([label_zero2, label_one2])"
   ]
  },
  {
   "cell_type": "code",
   "execution_count": 16,
   "id": "e1941156",
   "metadata": {},
   "outputs": [],
   "source": [
    "train_data.to_csv(DATA_IN_PATH + \"real_train_data.csv\", index = False ) #정제된 데이터 csv로 추출\n",
    "test_data.to_csv(DATA_IN_PATH + \"real_test_data.csv\", index = False ) #정제된 데이터 csv로 추출"
   ]
  }
 ],
 "metadata": {
  "kernelspec": {
   "display_name": "Python 3 (ipykernel)",
   "language": "python",
   "name": "python3"
  },
  "language_info": {
   "codemirror_mode": {
    "name": "ipython",
    "version": 3
   },
   "file_extension": ".py",
   "mimetype": "text/x-python",
   "name": "python",
   "nbconvert_exporter": "python",
   "pygments_lexer": "ipython3",
   "version": "3.8.11"
  }
 },
 "nbformat": 4,
 "nbformat_minor": 5
}
