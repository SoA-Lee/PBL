{
 "cells": [
  {
   "cell_type": "code",
   "execution_count": 1,
   "id": "78d04252",
   "metadata": {},
   "outputs": [],
   "source": [
    "import tensorflow as tf\n",
    "from tensorflow.keras.preprocessing.sequence import pad_sequences\n",
    "from tensorflow.keras.callbacks import EarlyStopping, ModelCheckpoint\n",
    "from tensorflow.keras import layers\n",
    "\n",
    "import numpy as np\n",
    "import pandas as pd\n",
    "\n",
    "import matplotlib.pyplot as plt\n",
    "import os\n",
    "import json\n",
    "\n",
    "from tqdm import tqdm"
   ]
  },
  {
   "cell_type": "code",
   "execution_count": 2,
   "id": "e054a572",
   "metadata": {},
   "outputs": [],
   "source": [
    "# 시각화 함수\n",
    "def plot_graphs(history, string):\n",
    "    plt.plot(history.history[string])\n",
    "    plt.plot(history.history['val_'+string], '')\n",
    "    plt.xlabel(\"Epochs\")\n",
    "    plt.ylabel(string)\n",
    "    plt.legend([string, 'val_'+string])\n",
    "    plt.show()"
   ]
  },
  {
   "cell_type": "code",
   "execution_count": 3,
   "id": "6d296ba6",
   "metadata": {},
   "outputs": [],
   "source": [
    "# 경로 정의\n",
    "DATA_IN_PATH = './data_in/'\n",
    "DATA_OUT_PATH = './data_out/'\n",
    "INPUT_TRAIN_DATA = 'train_input.npy'\n",
    "LABEL_TRAIN_DATA = 'train_label.npy'\n",
    "DATA_CONFIGS = 'data_configs.json'\n",
    "\n",
    "# 랜덤 시드 고정\n",
    "SEED_NUM = 1234\n",
    "tf.random.set_seed(SEED_NUM)"
   ]
  },
  {
   "cell_type": "code",
   "execution_count": 4,
   "id": "5f3ae442",
   "metadata": {},
   "outputs": [],
   "source": [
    "# 파일 로드\n",
    "train_input = np.load(open(DATA_IN_PATH + INPUT_TRAIN_DATA, 'rb'))\n",
    "train_label = np.load(open(DATA_IN_PATH + LABEL_TRAIN_DATA, 'rb'))\n",
    "prepro_configs = json.load(open(DATA_IN_PATH + DATA_CONFIGS, 'r',encoding='UTF-8'))"
   ]
  },
  {
   "cell_type": "code",
   "execution_count": 5,
   "id": "2490c475",
   "metadata": {},
   "outputs": [],
   "source": [
    "# 모델 하이퍼파라미터 정의 \n",
    "model_name = 'cnn_classifier_kr'\n",
    "BATCH_SIZE = 512\n",
    "NUM_EPOCHS = 10\n",
    "VALID_SPLIT = 0.1\n",
    "MAX_LEN = train_input.shape[1]\n",
    "\n",
    "kargs = {'model_name': model_name,\n",
    "        'vocab_size': prepro_configs['vocab_size'],\n",
    "        'embedding_size': 128,\n",
    "        'num_filters': 100,\n",
    "        'dropout_rate': 0.5,\n",
    "        'hidden_dimension': 250,\n",
    "        'output_dimension':1}"
   ]
  },
  {
   "cell_type": "code",
   "execution_count": 6,
   "id": "3277cf2b",
   "metadata": {},
   "outputs": [],
   "source": [
    "# 모델 선언 및 컴파일 \n",
    "class CNNClassifier(tf.keras.Model):\n",
    "    \n",
    "    def __init__(self, **kargs):\n",
    "        super(CNNClassifier, self).__init__(name=kargs['model_name'])\n",
    "        self.embedding = layers.Embedding(input_dim=kargs['vocab_size'],\n",
    "                                     output_dim=kargs['embedding_size'])\n",
    "        self.conv_list = [layers.Conv1D(filters=kargs['num_filters'],\n",
    "                                   kernel_size=kernel_size,\n",
    "                                   padding='valid',\n",
    "                                   activation=tf.keras.activations.relu,\n",
    "                                   kernel_constraint=tf.keras.constraints.MaxNorm(max_value=3.))\n",
    "                     for kernel_size in [3,4,5]]\n",
    "        self.pooling = layers.GlobalMaxPooling1D()\n",
    "        self.dropout = layers.Dropout(kargs['dropout_rate'])\n",
    "        self.fc1 = layers.Dense(units=kargs['hidden_dimension'],\n",
    "                           activation=tf.keras.activations.relu,\n",
    "                           kernel_constraint=tf.keras.constraints.MaxNorm(max_value=3.))\n",
    "        self.fc2 = layers.Dense(units=kargs['output_dimension'],\n",
    "                           activation=tf.keras.activations.sigmoid,\n",
    "                           kernel_constraint=tf.keras.constraints.MaxNorm(max_value=3.))\n",
    "    \n",
    "    def call(self, x):\n",
    "        x = self.embedding(x)\n",
    "        x = self.dropout(x)\n",
    "        x = tf.concat([self.pooling(conv(x)) for conv in self.conv_list], axis=-1)\n",
    "        x = self.fc1(x)\n",
    "        x = self.fc2(x)\n",
    "        \n",
    "        return x"
   ]
  },
  {
   "cell_type": "code",
   "execution_count": 7,
   "id": "eacfaf0d",
   "metadata": {},
   "outputs": [],
   "source": [
    "model = CNNClassifier(**kargs)\n",
    "\n",
    "model.compile(optimizer=tf.keras.optimizers.Adam(),\n",
    "              loss=tf.keras.losses.BinaryCrossentropy(),\n",
    "              metrics=[tf.keras.metrics.BinaryAccuracy(name='accuracy')])"
   ]
  },
  {
   "cell_type": "code",
   "execution_count": 8,
   "id": "00064e52",
   "metadata": {},
   "outputs": [
    {
     "name": "stdout",
     "output_type": "stream",
     "text": [
      "./data_out/cnn_classifier_kr -- Folder already exists \n",
      "\n"
     ]
    }
   ],
   "source": [
    "# CALLBACK 선언\n",
    "# overfitting을 막기 위한 ealrystop 추가\n",
    "earlystop_callback = EarlyStopping(monitor='val_accuracy', min_delta=0.0001,patience=2)\n",
    "# min_delta: the threshold that triggers the termination (acc should at least improve 0.0001)\n",
    "# patience: no improvment epochs (patience = 1, 1번 이상 상승이 없으면 종료)\\\n",
    "\n",
    "checkpoint_path = DATA_OUT_PATH + model_name + '/weights.h5'\n",
    "checkpoint_dir = os.path.dirname(checkpoint_path)\n",
    "\n",
    "# Create path if exists\n",
    "if os.path.exists(checkpoint_dir):\n",
    "    print(\"{} -- Folder already exists \\n\".format(checkpoint_dir))\n",
    "else:\n",
    "    os.makedirs(checkpoint_dir, exist_ok=True)\n",
    "    print(\"{} -- Folder create complete \\n\".format(checkpoint_dir))\n",
    "    \n",
    "\n",
    "cp_callback = ModelCheckpoint(\n",
    "    checkpoint_path, monitor='val_accuracy', verbose=1, save_best_only=True, save_weights_only=True)"
   ]
  },
  {
   "cell_type": "code",
   "execution_count": null,
   "id": "f5492986",
   "metadata": {},
   "outputs": [
    {
     "name": "stdout",
     "output_type": "stream",
     "text": [
      "Epoch 1/10\n",
      " 5/15 [=========>....................] - ETA: 4s - loss: 0.6822 - accuracy: 0.5391"
     ]
    }
   ],
   "source": [
    "# 모델 학습\n",
    "history = model.fit(train_input, train_label, batch_size=BATCH_SIZE, epochs=NUM_EPOCHS,\n",
    "                    validation_split=VALID_SPLIT, callbacks=[earlystop_callback, cp_callback])"
   ]
  },
  {
   "cell_type": "code",
   "execution_count": null,
   "id": "600c2862",
   "metadata": {},
   "outputs": [],
   "source": [
    "# 결과 플롯\n",
    "plot_graphs(history, 'loss')"
   ]
  },
  {
   "cell_type": "code",
   "execution_count": null,
   "id": "23452d77",
   "metadata": {},
   "outputs": [],
   "source": [
    "plot_graphs(history, 'accuracy')"
   ]
  },
  {
   "cell_type": "code",
   "execution_count": null,
   "id": "5405d6f4",
   "metadata": {},
   "outputs": [],
   "source": [
    "# 결과 평가하기 \n",
    "DATA_OUT_PATH = './data_out/'\n",
    "INPUT_TEST_DATA = 'test_input.npy'\n",
    "LABEL_TEST_DATA = 'test_label.npy'\n",
    "SAVE_FILE_NM = 'weights.h5' #저장된 best model 이름\n",
    "\n",
    "test_input = np.load(open(DATA_IN_PATH + INPUT_TEST_DATA, 'rb'))\n",
    "test_input = pad_sequences(test_input, maxlen=test_input.shape[1])\n",
    "test_label_data = np.load(open(DATA_IN_PATH + LABEL_TEST_DATA, 'rb'))"
   ]
  },
  {
   "cell_type": "code",
   "execution_count": null,
   "id": "8ec726dd",
   "metadata": {},
   "outputs": [],
   "source": [
    "model.load_weights(os.path.join(DATA_OUT_PATH, model_name, SAVE_FILE_NM))"
   ]
  },
  {
   "cell_type": "code",
   "execution_count": null,
   "id": "e6ad1474",
   "metadata": {},
   "outputs": [],
   "source": [
    "model.evaluate(test_input, test_label_data)"
   ]
  },
  {
   "cell_type": "code",
   "execution_count": null,
   "id": "88dbab3c",
   "metadata": {},
   "outputs": [],
   "source": []
  }
 ],
 "metadata": {
  "kernelspec": {
   "display_name": "Python 3 (ipykernel)",
   "language": "python",
   "name": "python3"
  },
  "language_info": {
   "codemirror_mode": {
    "name": "ipython",
    "version": 3
   },
   "file_extension": ".py",
   "mimetype": "text/x-python",
   "name": "python",
   "nbconvert_exporter": "python",
   "pygments_lexer": "ipython3",
   "version": "3.8.11"
  }
 },
 "nbformat": 4,
 "nbformat_minor": 5
}
